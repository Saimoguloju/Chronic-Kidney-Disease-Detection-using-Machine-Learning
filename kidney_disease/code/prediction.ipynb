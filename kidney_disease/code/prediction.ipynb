{
 "cells": [
  {
   "cell_type": "code",
   "execution_count": 1,
   "id": "908fc281",
   "metadata": {},
   "outputs": [],
   "source": [
    "import pandas as pd\n",
    "import numpy as np\n",
    "import joblib\n"
   ]
  },
  {
   "cell_type": "code",
   "execution_count": 3,
   "id": "34982964",
   "metadata": {},
   "outputs": [],
   "source": [
    "loaded_scaler = joblib.load(r'C:\\Users\\DELL\\OneDrive\\Desktop\\kidney_disease\\model\\scaler.joblib')"
   ]
  },
  {
   "cell_type": "code",
   "execution_count": 5,
   "id": "e8e94f0b",
   "metadata": {},
   "outputs": [],
   "source": [
    "model = joblib.load(r'C:\\Users\\DELL\\OneDrive\\Desktop\\kidney_disease\\model\\DT.joblib')"
   ]
  },
  {
   "cell_type": "code",
   "execution_count": 9,
   "id": "24f2ba53",
   "metadata": {},
   "outputs": [],
   "source": [
    "# Load LabelEncoder models\n",
    "loaded_label_encoders = {}\n",
    "for column in cat_cols:\n",
    "    model_file_path = f\"../model/{column}_label_encoder.joblib\"  \n",
    "    loaded_label_encoders[column] = joblib.load(model_file_path)"
   ]
  },
  {
   "cell_type": "code",
   "execution_count": 7,
   "id": "73330b8b",
   "metadata": {},
   "outputs": [],
   "source": [
    "columns=['age', 'blood_pressure', 'specific_gravity', 'albumin', 'sugar',\n",
    "       'red_blood_cells', 'pus_cell', 'pus_cell_clumps', 'bacteria',\n",
    "       'blood_glucose_random', 'blood_urea', 'serum_creatinine', 'sodium',\n",
    "       'potassium', 'haemoglobin', 'packed_cell_volume',\n",
    "       'white_blood_cell_count', 'red_blood_cell_count', 'hypertension',\n",
    "       'diabetes_mellitus', 'coronary_artery_disease', 'appetite',\n",
    "       'peda_edema', 'aanemia','eGFR']"
   ]
  },
  {
   "cell_type": "code",
   "execution_count": 8,
   "id": "5385d69b",
   "metadata": {},
   "outputs": [],
   "source": [
    "cat_cols = ['red_blood_cells', 'pus_cell', 'pus_cell_clumps', 'bacteria', 'hypertension', 'diabetes_mellitus', 'coronary_artery_disease', 'appetite', 'peda_edema', 'aanemia']"
   ]
  },
  {
   "cell_type": "code",
   "execution_count": 9,
   "id": "6c1fab69",
   "metadata": {},
   "outputs": [
    {
     "name": "stdout",
     "output_type": "stream",
     "text": [
      "Stage3\n"
     ]
    }
   ],
   "source": [
    "# Given input values\n",
    "input_values = {\n",
    "    'age': 48,\n",
    "    'blood_pressure': 70,\n",
    "    'specific_gravity': 1.005,\n",
    "    'albumin': 4,\n",
    "    'sugar': 0,\n",
    "    'red_blood_cells': 'normal',\n",
    "    'pus_cell': 'abnormal',\n",
    "    'pus_cell_clumps': 'present',\n",
    "    'bacteria': 'notpresent',\n",
    "    'blood_glucose_random': 117,\n",
    "    'blood_urea': 56,\n",
    "    'serum_creatinine': 3.8,\n",
    "    'sodium': 111,\n",
    "    'potassium': 2.5,\n",
    "    'haemoglobin': 11.2,\n",
    "    'packed_cell_volume': 32,\n",
    "    'white_blood_cell_count': 6700,\n",
    "    'red_blood_cell_count': 3.9,\n",
    "    'hypertension': 'yes',\n",
    "    'diabetes_mellitus': 'no',\n",
    "    'coronary_artery_disease': 'no',\n",
    "    'appetite': 'poor',\n",
    "    'peda_edema': 'yes',\n",
    "    'aanemia': 'yes',\n",
    "    'eGFR':18.11\n",
    "}\n",
    "\n",
    "# Create a DataFrame from the input values\n",
    "input_df = pd.DataFrame([input_values])\n",
    "\n",
    "# Preprocess the input values\n",
    "for column in cat_cols:\n",
    "    input_df[column] = input_df[column].astype(str)  # Ensure values are strings\n",
    "    le = loaded_label_encoders[column]\n",
    "    input_df[column] = le.transform(input_df[column])\n",
    "\n",
    "# Scale all columns\n",
    "input_df_scaled = loaded_scaler.transform(input_df)\n",
    "\n",
    "# Make predictions using the loaded model\n",
    "prediction = model.predict(input_df_scaled)\n",
    "if prediction==0:\n",
    "    print(\"No Disease\")\n",
    "elif prediction==1:\n",
    "    print(\"Stage1\")\n",
    "elif prediction==2:\n",
    "    print(\"Stage2\")\n",
    "elif prediction==3:\n",
    "    print(\"Stage3\")\n",
    "else:\n",
    "    print(\"Stage4\")\n",
    "\n"
   ]
  },
  {
   "cell_type": "code",
   "execution_count": null,
   "id": "621b5ff5",
   "metadata": {},
   "outputs": [],
   "source": []
  },
  {
   "cell_type": "code",
   "execution_count": null,
   "id": "1e7f89ca",
   "metadata": {},
   "outputs": [],
   "source": []
  }
 ],
 "metadata": {
  "kernelspec": {
   "display_name": "Python 3 (ipykernel)",
   "language": "python",
   "name": "python3"
  },
  "language_info": {
   "codemirror_mode": {
    "name": "ipython",
    "version": 3
   },
   "file_extension": ".py",
   "mimetype": "text/x-python",
   "name": "python",
   "nbconvert_exporter": "python",
   "pygments_lexer": "ipython3",
   "version": "3.10.9"
  }
 },
 "nbformat": 4,
 "nbformat_minor": 5
}
