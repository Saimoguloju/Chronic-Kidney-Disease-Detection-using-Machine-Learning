{
 "cells": [
  {
   "cell_type": "code",
   "execution_count": 1,
   "id": "908fc281",
   "metadata": {},
   "outputs": [],
   "source": [
    "import pandas as pd\n",
    "import numpy as np\n",
    "import joblib"
   ]
  },
  {
   "cell_type": "code",
   "execution_count": 3,
   "id": "34982964",
   "metadata": {},
   "outputs": [
    {
     "name": "stderr",
     "output_type": "stream",
     "text": [
      "C:\\Users\\User\\Anaconda3\\lib\\site-packages\\scipy\\__init__.py:155: UserWarning: A NumPy version >=1.18.5 and <1.26.0 is required for this version of SciPy (detected version 1.26.4\n",
      "  warnings.warn(f\"A NumPy version >={np_minversion} and <{np_maxversion}\"\n"
     ]
    },
    {
     "ename": "KeyError",
     "evalue": "195",
     "output_type": "error",
     "traceback": [
      "\u001b[1;31m---------------------------------------------------------------------------\u001b[0m",
      "\u001b[1;31mKeyError\u001b[0m                                  Traceback (most recent call last)",
      "\u001b[1;32m~\\AppData\\Local\\Temp\\ipykernel_4412\\3885547194.py\u001b[0m in \u001b[0;36m<module>\u001b[1;34m\u001b[0m\n\u001b[1;32m----> 1\u001b[1;33m \u001b[0mloaded_scaler\u001b[0m \u001b[1;33m=\u001b[0m \u001b[0mjoblib\u001b[0m\u001b[1;33m.\u001b[0m\u001b[0mload\u001b[0m\u001b[1;33m(\u001b[0m\u001b[1;34m'../model/scaler.joblib'\u001b[0m\u001b[1;33m)\u001b[0m\u001b[1;33m\u001b[0m\u001b[1;33m\u001b[0m\u001b[0m\n\u001b[0m",
      "\u001b[1;32m~\\Anaconda3\\lib\\site-packages\\joblib\\numpy_pickle.py\u001b[0m in \u001b[0;36mload\u001b[1;34m(filename, mmap_mode)\u001b[0m\n\u001b[0;32m    585\u001b[0m                     \u001b[1;32mreturn\u001b[0m \u001b[0mload_compatibility\u001b[0m\u001b[1;33m(\u001b[0m\u001b[0mfobj\u001b[0m\u001b[1;33m)\u001b[0m\u001b[1;33m\u001b[0m\u001b[1;33m\u001b[0m\u001b[0m\n\u001b[0;32m    586\u001b[0m \u001b[1;33m\u001b[0m\u001b[0m\n\u001b[1;32m--> 587\u001b[1;33m                 \u001b[0mobj\u001b[0m \u001b[1;33m=\u001b[0m \u001b[0m_unpickle\u001b[0m\u001b[1;33m(\u001b[0m\u001b[0mfobj\u001b[0m\u001b[1;33m,\u001b[0m \u001b[0mfilename\u001b[0m\u001b[1;33m,\u001b[0m \u001b[0mmmap_mode\u001b[0m\u001b[1;33m)\u001b[0m\u001b[1;33m\u001b[0m\u001b[1;33m\u001b[0m\u001b[0m\n\u001b[0m\u001b[0;32m    588\u001b[0m     \u001b[1;32mreturn\u001b[0m \u001b[0mobj\u001b[0m\u001b[1;33m\u001b[0m\u001b[1;33m\u001b[0m\u001b[0m\n",
      "\u001b[1;32m~\\Anaconda3\\lib\\site-packages\\joblib\\numpy_pickle.py\u001b[0m in \u001b[0;36m_unpickle\u001b[1;34m(fobj, filename, mmap_mode)\u001b[0m\n\u001b[0;32m    504\u001b[0m     \u001b[0mobj\u001b[0m \u001b[1;33m=\u001b[0m \u001b[1;32mNone\u001b[0m\u001b[1;33m\u001b[0m\u001b[1;33m\u001b[0m\u001b[0m\n\u001b[0;32m    505\u001b[0m     \u001b[1;32mtry\u001b[0m\u001b[1;33m:\u001b[0m\u001b[1;33m\u001b[0m\u001b[1;33m\u001b[0m\u001b[0m\n\u001b[1;32m--> 506\u001b[1;33m         \u001b[0mobj\u001b[0m \u001b[1;33m=\u001b[0m \u001b[0munpickler\u001b[0m\u001b[1;33m.\u001b[0m\u001b[0mload\u001b[0m\u001b[1;33m(\u001b[0m\u001b[1;33m)\u001b[0m\u001b[1;33m\u001b[0m\u001b[1;33m\u001b[0m\u001b[0m\n\u001b[0m\u001b[0;32m    507\u001b[0m         \u001b[1;32mif\u001b[0m \u001b[0munpickler\u001b[0m\u001b[1;33m.\u001b[0m\u001b[0mcompat_mode\u001b[0m\u001b[1;33m:\u001b[0m\u001b[1;33m\u001b[0m\u001b[1;33m\u001b[0m\u001b[0m\n\u001b[0;32m    508\u001b[0m             warnings.warn(\"The file '%s' has been generated with a \"\n",
      "\u001b[1;32m~\\Anaconda3\\lib\\pickle.py\u001b[0m in \u001b[0;36mload\u001b[1;34m(self)\u001b[0m\n\u001b[0;32m   1210\u001b[0m                     \u001b[1;32mraise\u001b[0m \u001b[0mEOFError\u001b[0m\u001b[1;33m\u001b[0m\u001b[1;33m\u001b[0m\u001b[0m\n\u001b[0;32m   1211\u001b[0m                 \u001b[1;32massert\u001b[0m \u001b[0misinstance\u001b[0m\u001b[1;33m(\u001b[0m\u001b[0mkey\u001b[0m\u001b[1;33m,\u001b[0m \u001b[0mbytes_types\u001b[0m\u001b[1;33m)\u001b[0m\u001b[1;33m\u001b[0m\u001b[1;33m\u001b[0m\u001b[0m\n\u001b[1;32m-> 1212\u001b[1;33m                 \u001b[0mdispatch\u001b[0m\u001b[1;33m[\u001b[0m\u001b[0mkey\u001b[0m\u001b[1;33m[\u001b[0m\u001b[1;36m0\u001b[0m\u001b[1;33m]\u001b[0m\u001b[1;33m]\u001b[0m\u001b[1;33m(\u001b[0m\u001b[0mself\u001b[0m\u001b[1;33m)\u001b[0m\u001b[1;33m\u001b[0m\u001b[1;33m\u001b[0m\u001b[0m\n\u001b[0m\u001b[0;32m   1213\u001b[0m         \u001b[1;32mexcept\u001b[0m \u001b[0m_Stop\u001b[0m \u001b[1;32mas\u001b[0m \u001b[0mstopinst\u001b[0m\u001b[1;33m:\u001b[0m\u001b[1;33m\u001b[0m\u001b[1;33m\u001b[0m\u001b[0m\n\u001b[0;32m   1214\u001b[0m             \u001b[1;32mreturn\u001b[0m \u001b[0mstopinst\u001b[0m\u001b[1;33m.\u001b[0m\u001b[0mvalue\u001b[0m\u001b[1;33m\u001b[0m\u001b[1;33m\u001b[0m\u001b[0m\n",
      "\u001b[1;31mKeyError\u001b[0m: 195"
     ]
    }
   ],
   "source": [
    "loaded_scaler = joblib.load('../model/scaler.joblib')"
   ]
  },
  {
   "cell_type": "code",
   "execution_count": 31,
   "id": "e8e94f0b",
   "metadata": {},
   "outputs": [],
   "source": [
    "model = load('../model/DT.joblib')"
   ]
  },
  {
   "cell_type": "code",
   "execution_count": 37,
   "id": "24f2ba53",
   "metadata": {},
   "outputs": [],
   "source": [
    "# Load LabelEncoder models\n",
    "loaded_label_encoders = {}\n",
    "for column in cat_cols:\n",
    "    model_file_path = f\"../model/{column}_label_encoder.joblib\"  \n",
    "    loaded_label_encoders[column] = joblib.load(model_file_path)"
   ]
  },
  {
   "cell_type": "code",
   "execution_count": 40,
   "id": "73330b8b",
   "metadata": {},
   "outputs": [],
   "source": [
    "columns=['age', 'blood_pressure', 'specific_gravity', 'albumin', 'sugar',\n",
    "       'red_blood_cells', 'pus_cell', 'pus_cell_clumps', 'bacteria',\n",
    "       'blood_glucose_random', 'blood_urea', 'serum_creatinine', 'sodium',\n",
    "       'potassium', 'haemoglobin', 'packed_cell_volume',\n",
    "       'white_blood_cell_count', 'red_blood_cell_count', 'hypertension',\n",
    "       'diabetes_mellitus', 'coronary_artery_disease', 'appetite',\n",
    "       'peda_edema', 'aanemia','eGFR']"
   ]
  },
  {
   "cell_type": "code",
   "execution_count": null,
   "id": "5385d69b",
   "metadata": {},
   "outputs": [],
   "source": [
    "cat_cols = ['red_blood_cells', 'pus_cell', 'pus_cell_clumps', 'bacteria', 'hypertension', 'diabetes_mellitus', 'coronary_artery_disease', 'appetite', 'peda_edema', 'aanemia']"
   ]
  },
  {
   "cell_type": "code",
   "execution_count": 44,
   "id": "6c1fab69",
   "metadata": {},
   "outputs": [
    {
     "name": "stdout",
     "output_type": "stream",
     "text": [
      "Model Prediction: 3\n"
     ]
    }
   ],
   "source": [
    "# Given input values\n",
    "input_values = {\n",
    "    'age': 48,\n",
    "    'blood_pressure': 70,\n",
    "    'specific_gravity': 1.005,\n",
    "    'albumin': 4,\n",
    "    'sugar': 0,\n",
    "    'red_blood_cells': 'normal',\n",
    "    'pus_cell': 'abnormal',\n",
    "    'pus_cell_clumps': 'present',\n",
    "    'bacteria': 'notpresent',\n",
    "    'blood_glucose_random': 117,\n",
    "    'blood_urea': 56,\n",
    "    'serum_creatinine': 3.8,\n",
    "    'sodium': 111,\n",
    "    'potassium': 2.5,\n",
    "    'haemoglobin': 11.2,\n",
    "    'packed_cell_volume': 32,\n",
    "    'white_blood_cell_count': 6700,\n",
    "    'red_blood_cell_count': 3.9,\n",
    "    'hypertension': 'yes',\n",
    "    'diabetes_mellitus': 'no',\n",
    "    'coronary_artery_disease': 'no',\n",
    "    'appetite': 'poor',\n",
    "    'peda_edema': 'yes',\n",
    "    'aanemia': 'yes',\n",
    "    'eGFR':18.11\n",
    "}\n",
    "\n",
    "# Create a DataFrame from the input values\n",
    "input_df = pd.DataFrame([input_values])\n",
    "\n",
    "# Preprocess the input values\n",
    "for column in cat_cols:\n",
    "    input_df[column] = input_df[column].astype(str)  # Ensure values are strings\n",
    "    le = loaded_label_encoders[column]\n",
    "    input_df[column] = le.transform(input_df[column])\n",
    "\n",
    "# Scale all columns\n",
    "input_df_scaled = loaded_scaler.transform(input_df)\n",
    "\n",
    "# Make predictions using the loaded model\n",
    "prediction = model.predict(input_df_scaled)\n",
    "\n",
    "# Display the prediction\n",
    "print(f'Model Prediction: {prediction[0]}')\n"
   ]
  },
  {
   "cell_type": "code",
   "execution_count": null,
   "id": "621b5ff5",
   "metadata": {},
   "outputs": [],
   "source": []
  }
 ],
 "metadata": {
  "kernelspec": {
   "display_name": "Python 3 (ipykernel)",
   "language": "python",
   "name": "python3"
  },
  "language_info": {
   "codemirror_mode": {
    "name": "ipython",
    "version": 3
   },
   "file_extension": ".py",
   "mimetype": "text/x-python",
   "name": "python",
   "nbconvert_exporter": "python",
   "pygments_lexer": "ipython3",
   "version": "3.9.16"
  }
 },
 "nbformat": 4,
 "nbformat_minor": 5
}
